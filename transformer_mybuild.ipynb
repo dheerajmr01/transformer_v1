{
  "nbformat": 4,
  "nbformat_minor": 0,
  "metadata": {
    "colab": {
      "provenance": [],
      "authorship_tag": "ABX9TyNNu9rTlY5/pywBtI9ATq+V",
      "include_colab_link": true
    },
    "kernelspec": {
      "name": "python3",
      "display_name": "Python 3"
    },
    "language_info": {
      "name": "python"
    }
  },
  "cells": [
    {
      "cell_type": "markdown",
      "metadata": {
        "id": "view-in-github",
        "colab_type": "text"
      },
      "source": [
        "<a href=\"https://colab.research.google.com/github/dheerajmr01/transformer_v1/blob/main/transformer_mybuild.ipynb\" target=\"_parent\"><img src=\"https://colab.research.google.com/assets/colab-badge.svg\" alt=\"Open In Colab\"/></a>"
      ]
    },
    {
      "cell_type": "code",
      "source": [
        "import os\n",
        "from os.path import exists\n",
        "import torch\n",
        "import torch.nn as nn\n",
        "from torch.nn.functional import log_softmax,pad\n",
        "import math\n",
        "import copy\n",
        "import time\n",
        "from torch.optim.lr_scheduler import LambdaLR\n",
        "import pandas as pd\n",
        "import altair as alt\n",
        "import warnings\n",
        "from torch.utils.data.distributed import DistributedSampler\n",
        "import torch.distributed as dist\n",
        "import torch.multiprocessing as mp\n",
        "from torch.nn.parallel import DistributedDataParallel as DDP\n",
        "\n",
        "\n",
        "RUN_EXAMPLES = True\n",
        "print(torch.__version__)\n"
      ],
      "metadata": {
        "colab": {
          "base_uri": "https://localhost:8080/"
        },
        "id": "ABOBlkXk-0tg",
        "outputId": "22646568-fb43-49a7-9100-bea801c2c847"
      },
      "execution_count": 1,
      "outputs": [
        {
          "output_type": "stream",
          "name": "stdout",
          "text": [
            "2.6.0+cu124\n"
          ]
        }
      ]
    },
    {
      "cell_type": "markdown",
      "source": [
        "#Helper functions:"
      ],
      "metadata": {
        "id": "k1dUm9x6_peF"
      }
    },
    {
      "cell_type": "code",
      "source": [
        "def is_interactive_notebook():\n",
        "    return __name__ == \"__main__\"\n",
        "\n",
        "\n",
        "def show_example(fn, args=[]):\n",
        "    if __name__ == \"__main__\" and RUN_EXAMPLES:\n",
        "        return fn(*args)\n",
        "\n",
        "\n",
        "def execute_example(fn, args=[]):\n",
        "    if __name__ == \"__main__\" and RUN_EXAMPLES:\n",
        "        fn(*args)\n",
        "\n",
        "\n",
        "class DummyOptimizer(torch.optim.Optimizer):\n",
        "    def __init__(self):\n",
        "        self.param_groups = [{\"lr\": 0}]\n",
        "        None\n",
        "\n",
        "    def step(self):\n",
        "        None\n",
        "\n",
        "    def zero_grad(self, set_to_none=False):\n",
        "        None\n",
        "\n",
        "class DummyScheduler:\n",
        "    def step(self):\n",
        "        None"
      ],
      "metadata": {
        "id": "r-8lYDbl_nfA"
      },
      "execution_count": 34,
      "outputs": []
    },
    {
      "cell_type": "markdown",
      "source": [
        "# This is the main model class:"
      ],
      "metadata": {
        "id": "5fkXWhwxGUej"
      }
    },
    {
      "cell_type": "code",
      "source": [
        "class EncoderDecoder(nn.Module):\n",
        "\n",
        "  \"\"\"\n",
        "    Main Architecture of the encoder and decoder\n",
        "  \"\"\"\n",
        "\n",
        "  def __init__(self, encoder, decoder, source_embeddings, target_embeddings, generator):\n",
        "    super().__init__()\n",
        "    self.encoder = encoder\n",
        "    self.decoder = decoder\n",
        "    self.generator = generator\n",
        "    self.source_embeddings = source_embeddings\n",
        "    self.target_embeddings = target_embeddings\n",
        "\n",
        "  def forward(self, src, tgt, src_mask, tgt_mask):\n",
        "      \"Take in and process masked src and target sequences.\"\n",
        "      return self.decode(self.encode(src, src_mask), src_mask, tgt, tgt_mask)\n",
        "\n",
        "  def encode(self, source, source_mask):\n",
        "    return self.encoder(self.source_embeddings(source),source_mask)\n",
        "\n",
        "  def decode(self, memory, source_mask, target, target_mask):\n",
        "    return self.decoder(self.target_embeddings(target), memory, source_mask, target_mask)"
      ],
      "metadata": {
        "id": "65qTS9j-Al9g"
      },
      "execution_count": 3,
      "outputs": []
    },
    {
      "cell_type": "markdown",
      "source": [
        "# Now we build the encoder, decoder, self-attention, generator, embedding classes."
      ],
      "metadata": {
        "id": "aDpavGYdGaMu"
      }
    },
    {
      "cell_type": "code",
      "source": [
        "class Generator(nn.Module):\n",
        "  def __init__(self, d_model, vocab) -> None:\n",
        "     super().__init__()\n",
        "     self.projections = nn.Linear(d_model, vocab)\n",
        "\n",
        "  def forward(self,x):\n",
        "    return log_softmax(self.projections(x), dim=1)"
      ],
      "metadata": {
        "id": "l7AChiKLFSzq"
      },
      "execution_count": 4,
      "outputs": []
    },
    {
      "cell_type": "markdown",
      "source": [
        "#Helper Layers"
      ],
      "metadata": {
        "id": "KcuhioL1Tku2"
      }
    },
    {
      "cell_type": "code",
      "source": [
        "def clones(module, N):\n",
        "  \"\"\"\n",
        "  Duplicating layers\n",
        "\n",
        "  \"\"\"\n",
        "  return nn.ModuleList([copy.deepcopy(module) for _ in range(N)])"
      ],
      "metadata": {
        "id": "lM99kFWKHKuS"
      },
      "execution_count": 5,
      "outputs": []
    },
    {
      "cell_type": "code",
      "source": [
        "class LayerNorm(nn.Module):\n",
        "    \"Construct a layernorm module as per paperand standards for reducing training time \"\n",
        "\n",
        "    def __init__(self, features, eps = 1e-6):\n",
        "      super().__init__()\n",
        "      self.a_2 = nn.Parameter(torch.ones(features))\n",
        "      self.b_2 = nn.Parameter(torch.zeros(features))\n",
        "      self.eps = eps\n",
        "\n",
        "    def forward(self, x):\n",
        "      mean = x.mean(-1, keepdim=True)\n",
        "      std = x.std(-1, keepdim=True)\n",
        "      return self.a_2 * (x - mean)/ (std + self.eps) + self.b_2\n"
      ],
      "metadata": {
        "id": "YpWudLUhTiDN"
      },
      "execution_count": 7,
      "outputs": []
    },
    {
      "cell_type": "code",
      "source": [
        "class SublayerConnection(nn.Module):\n",
        "    \"\"\"\n",
        "    A residual connection followed by a layer norm.\n",
        "    for code simplicity the norm is first as opposed to last.\n",
        "    \"\"\"\n",
        "\n",
        "    def __init__(self, size, dropout):\n",
        "        super().__init__()\n",
        "        self.norm = LayerNorm(size)\n",
        "        self.dropout = nn.Dropout(dropout)\n",
        "\n",
        "    def forward(self, x, sublayer):\n",
        "        \"Apply residual connection to any sublayer with the same size.\"\n",
        "        return x + self.dropout(sublayer(self.norm(x)))"
      ],
      "metadata": {
        "id": "_0lQ-uNgU_Yb"
      },
      "execution_count": 8,
      "outputs": []
    },
    {
      "cell_type": "markdown",
      "source": [
        "#Encoder Layer\n"
      ],
      "metadata": {
        "id": "axpQ9xfz4T6r"
      }
    },
    {
      "cell_type": "code",
      "source": [
        "class EncoderLayer(nn.Module):\n",
        "  \"Self attention layer and feed forward Layer\"\n",
        "  def __init__(self, size, self_attn, feed_forward, dropout):\n",
        "    super().__init__()\n",
        "    self.self_attn = self_attn\n",
        "    self.feed_forward = feed_forward\n",
        "    self.sublayer = clones(SublayerConnection(size, dropout), 2)\n",
        "    self.size = size\n",
        "\n",
        "  def forward(self,x, mask):\n",
        "    x = self.sublayer[0](x, lambda x: self.self_attn(x, x, x, mask))\n",
        "    return self.sublayer[1](x, self.feed_forward)\n",
        ""
      ],
      "metadata": {
        "id": "qxq0DKzyfA_a"
      },
      "execution_count": 9,
      "outputs": []
    },
    {
      "cell_type": "code",
      "source": [
        "class Encoder(nn.Module):\n",
        "  \"Stack of N layers\"\n",
        "\n",
        "  def __init__(self, layer, N):\n",
        "    super().__init__()\n",
        "    self.layers = clones(layer,N) # EncoderLayer will be the layer input.\n",
        "    self.norm = LayerNorm(layer.size)\n",
        "\n",
        "  def forward(self,x, mask):\n",
        "    \"pass the input and mask thu each layer\"\n",
        "    for layer in self.layers:\n",
        "      x  = layer(x,mask)\n",
        "    return self.norm(x)"
      ],
      "metadata": {
        "id": "GGZ2fA5jTkb0"
      },
      "execution_count": 6,
      "outputs": []
    },
    {
      "cell_type": "markdown",
      "source": [
        "![Screenshot 2025-06-28 005621.png](data:image/png;base64,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)"
      ],
      "metadata": {
        "id": "Yz3igUyr2da0"
      }
    },
    {
      "cell_type": "markdown",
      "source": [
        "#Decoder Layer"
      ],
      "metadata": {
        "id": "m_vZVzuse9lA"
      }
    },
    {
      "cell_type": "code",
      "source": [
        "class Decoder(nn.Module):\n",
        "  \"N layer Decoder\"\n",
        "  def __init__(self,layer, N):\n",
        "    super().__init__()\n",
        "    self.layers = clones(layer,N)\n",
        "    self.norm = LayerNorm(layer.size)\n",
        "\n",
        "  def forward(self,x, memory, source_mask, target_mask):\n",
        "    for layer in self.layers:\n",
        "      x = layer(x, memory, source_mask, target_mask)\n",
        "    return self.norm(x)"
      ],
      "metadata": {
        "id": "RhmVM8DVfA86"
      },
      "execution_count": 10,
      "outputs": []
    },
    {
      "cell_type": "code",
      "source": [
        "class DecoderLayer(nn.Module):\n",
        "    \"Decoder is made of self-attn, src-attn, and feed forward (defined below)\"\n",
        "\n",
        "    def __init__(self, size, self_attn, src_attn, feed_forward, dropout):\n",
        "        super().__init__()\n",
        "        self.size = size\n",
        "        self.self_attn = self_attn\n",
        "        self.src_attn = src_attn\n",
        "        self.feed_forward = feed_forward\n",
        "        self.sublayer = clones(SublayerConnection(size, dropout), 3)\n",
        "\n",
        "    def forward(self, x, memory, src_mask, tgt_mask):\n",
        "        m = memory\n",
        "        x = self.sublayer[0](x, lambda x: self.self_attn(x, x, x, tgt_mask))\n",
        "        x = self.sublayer[1](x, lambda x: self.src_attn(x, m, m, src_mask))\n",
        "        return self.sublayer[2](x, self.feed_forward)"
      ],
      "metadata": {
        "id": "xvxtX3dxfA6L"
      },
      "execution_count": 11,
      "outputs": []
    },
    {
      "cell_type": "code",
      "source": [
        "def subsequent_mask(size):\n",
        "    \"Mask out subsequent positions.\"\n",
        "    attn_shape = (1, size, size)\n",
        "    subsequent_mask = torch.triu(torch.ones(attn_shape), diagonal=1).type(torch.uint8)\n",
        "    return subsequent_mask == 0"
      ],
      "metadata": {
        "id": "xAIurlYKfA3l"
      },
      "execution_count": 21,
      "outputs": []
    },
    {
      "cell_type": "markdown",
      "source": [
        "# Attention mechanism:\n",
        "Here i implement standard attention mechanism which is a scaled dot product attention."
      ],
      "metadata": {
        "id": "rpUfJXXEDJJa"
      }
    },
    {
      "cell_type": "code",
      "source": [
        "def attention(query, key, value, mask=None, dropout=None):\n",
        "  \"\"\"Computing the scaled dot product\"\"\"\n",
        "  dim_k = query.size(-1)\n",
        "  scores = query @ key.transpose(-2,-1) / math.sqrt(dim_k)\n",
        "  if mask is not None:\n",
        "    scores = scores.masked_fill(mask == 0, -1e9)\n",
        "  p_attn = scores.softmax(dim=-1)\n",
        "  if dropout is not None:\n",
        "    p_attn = dropout(p_attn)\n",
        "  return p_attn @ value , p_attn"
      ],
      "metadata": {
        "id": "CpfyBh5ZfA0r"
      },
      "execution_count": 19,
      "outputs": []
    },
    {
      "cell_type": "code",
      "source": [
        "#from re import X\n",
        "class MultiHeadedAttention(nn.Module):\n",
        "  def __init__(self, h, dim_model, dropout=0.1):\n",
        "    \"Take in model size and number of heads.\"\n",
        "    super().__init__()\n",
        "    assert dim_model % h == 0\n",
        "    # Assume dim of value and key are same\n",
        "    self.dim_k = dim_model // h\n",
        "    self.h = h\n",
        "    self.linears = clones(nn.Linear(dim_model, dim_model), 4)\n",
        "    self.attn = None\n",
        "    self.dropout = nn.Dropout(p=dropout)\n",
        "\n",
        "  def forward(self,query, key, value, mask = None):\n",
        "    if mask is not None:\n",
        "      mask = mask.unsqueeze(1)\n",
        "\n",
        "    nbatches = query.size(0)\n",
        "\n",
        "    query, key, value = [lin(x).view(nbatches, -1, self.h, self.dim_k).transpose(1,2) for lin, x in zip(self.linears,(query, key, value))]\n",
        "\n",
        "    # Applying attention on all the projected vectors in batch\n",
        "    x, self.attn = attention(query, key, value, mask=mask, dropout = self.dropout)\n",
        "\n",
        "    # Concat using view and applying final linear\n",
        "    x = (x.transpose(1,2).contiguous().view(nbatches,-1, self.h * self.dim_k))\n",
        "\n",
        "    del query\n",
        "    del key\n",
        "    del value\n",
        "    return self.linears[-1](x)\n"
      ],
      "metadata": {
        "id": "POfOs6NWEvcu"
      },
      "execution_count": 12,
      "outputs": []
    },
    {
      "cell_type": "markdown",
      "source": [
        "# Embeddings and positional encoding\n"
      ],
      "metadata": {
        "id": "gjnxxw1mGzyV"
      }
    },
    {
      "cell_type": "code",
      "source": [
        "class PositionwiseFeedForward(nn.Module):\n",
        "    \"Implements FFN equation.\"\n",
        "\n",
        "    def __init__(self, dim_model, d_ff, dropout=0.1):\n",
        "        super().__init__()\n",
        "        self.w_1 = nn.Linear(dim_model, d_ff)\n",
        "        self.w_2 = nn.Linear(d_ff, dim_model)\n",
        "        self.dropout = nn.Dropout(dropout)\n",
        "\n",
        "    def forward(self, x):\n",
        "        return self.w_2(self.dropout(self.w_1(x).relu()))"
      ],
      "metadata": {
        "id": "s99DZmYQ1epr"
      },
      "execution_count": 13,
      "outputs": []
    },
    {
      "cell_type": "code",
      "source": [
        "class Embeddings(nn.Module):\n",
        "    def __init__(self, d_model, vocab):\n",
        "        super().__init__()\n",
        "        self.lut = nn.Embedding(vocab, d_model)\n",
        "        self.d_model = d_model\n",
        "\n",
        "    def forward(self, x):\n",
        "        return self.lut(x) * math.sqrt(self.d_model)"
      ],
      "metadata": {
        "id": "imHr79mHG1gu"
      },
      "execution_count": 14,
      "outputs": []
    },
    {
      "cell_type": "code",
      "source": [
        "class PositionalEncoding(nn.Module):\n",
        "    \"Implementing the PE function using sin and cos waves.\"\n",
        "\n",
        "    def __init__(self, d_model, dropout, max_len=5000):\n",
        "        super().__init__()\n",
        "        self.dropout = nn.Dropout(p=dropout)\n",
        "\n",
        "        # Compute the positional encodings once in log space.\n",
        "        pe = torch.zeros(max_len, d_model)\n",
        "        position = torch.arange(0, max_len).unsqueeze(1)\n",
        "        div_term = torch.exp(\n",
        "            torch.arange(0, d_model, 2) * -(math.log(10000.0) / d_model)\n",
        "        )\n",
        "        pe[:, 0::2] = torch.sin(position * div_term)\n",
        "        pe[:, 1::2] = torch.cos(position * div_term)\n",
        "        pe = pe.unsqueeze(0)\n",
        "        self.register_buffer(\"pe\", pe)\n",
        "\n",
        "    def forward(self, x):\n",
        "        x = x + self.pe[:, : x.size(1)].requires_grad_(False)\n",
        "        return self.dropout(x)"
      ],
      "metadata": {
        "id": "3sirI8nxHLuw"
      },
      "execution_count": 15,
      "outputs": []
    },
    {
      "cell_type": "markdown",
      "source": [
        "# Model:"
      ],
      "metadata": {
        "id": "31yooynGKmS_"
      }
    },
    {
      "cell_type": "code",
      "source": [
        "def build_model(source_vocab, target_vocab, N=6, dim_model=512, dim_feed_forward=2048, h=8, dropout=0.1):\n",
        "  \"\"\"Constructing a model with the given parameters\"\"\"\n",
        "\n",
        "  c = copy.deepcopy\n",
        "  attn = MultiHeadedAttention(h,dim_model)\n",
        "  ff = PositionwiseFeedForward(dim_model, dim_feed_forward, dropout)\n",
        "  position = PositionalEncoding(dim_model, dropout)\n",
        "\n",
        "  model = EncoderDecoder(\n",
        "      Encoder(EncoderLayer(dim_model, c(attn), c(ff), dropout), N),\n",
        "      Decoder(DecoderLayer(dim_model, c(attn), c(attn), c(ff), dropout), N),\n",
        "      nn.Sequential(Embeddings(dim_model, source_vocab), c(position)),\n",
        "      nn.Sequential(Embeddings(dim_model, target_vocab), c(position)),\n",
        "      Generator(dim_model, target_vocab)\n",
        "  )\n",
        "\n",
        "  for p in model.parameters():\n",
        "    if p.dim() > 1:\n",
        "      nn.init.xavier_uniform_(p)\n",
        "  return model"
      ],
      "metadata": {
        "id": "4Bblq8WHKtXf"
      },
      "execution_count": 16,
      "outputs": []
    },
    {
      "cell_type": "markdown",
      "source": [
        "# Inferencing without training the transformer model"
      ],
      "metadata": {
        "id": "FhbgLvRQN5Hx"
      }
    },
    {
      "cell_type": "code",
      "source": [
        "def inference_test():\n",
        "  test_model = build_model(11,11,2)\n",
        "  test_model.eval()\n",
        "  source = torch.LongTensor([[1,2,3,4,5,6,7,8,9,10]])\n",
        "  source_mask = torch.ones(1,1,10)\n",
        "\n",
        "  memory = test_model.encode(source,source_mask)\n",
        "  ys = torch.zeros(1,1).type_as(source)\n",
        "\n",
        "\n",
        "  for i in range(9):\n",
        "    out = test_model.decode(\n",
        "        memory,source_mask, ys, subsequent_mask(ys.size(1)).type_as(source.data)\n",
        "        )\n",
        "\n",
        "    prob = test_model.generator(out[:, -1])\n",
        "    _, next_word = torch.max(prob, dim=1)\n",
        "    next_word = next_word.data[0]\n",
        "    ys = torch.cat(\n",
        "        [ys, torch.empty(1,1).type_as(source.data).fill_(next_word)], dim=1\n",
        "    )\n",
        "\n",
        "  print(\"Untrained model predictions: \", ys)\n"
      ],
      "metadata": {
        "id": "UMg7pFZ9M9RS"
      },
      "execution_count": 17,
      "outputs": []
    },
    {
      "cell_type": "code",
      "source": [
        "def run_tests():\n",
        "  for _ in range(10):\n",
        "    inference_test()\n",
        "\n",
        "show_example(run_tests)"
      ],
      "metadata": {
        "colab": {
          "base_uri": "https://localhost:8080/"
        },
        "id": "f0WbHTaoRLsK",
        "outputId": "4d15fbe8-8f48-409b-b755-7dd3ccbd5c40"
      },
      "execution_count": 22,
      "outputs": [
        {
          "output_type": "stream",
          "name": "stdout",
          "text": [
            "Untrained model predictions:  tensor([[ 0,  4, 10,  6,  6,  6,  6,  6,  6,  6]])\n",
            "Untrained model predictions:  tensor([[ 0,  9,  9,  9,  9,  9,  9, 10,  0,  9]])\n",
            "Untrained model predictions:  tensor([[0, 3, 4, 5, 0, 5, 0, 5, 0, 5]])\n",
            "Untrained model predictions:  tensor([[0, 9, 1, 9, 1, 9, 1, 9, 1, 9]])\n",
            "Untrained model predictions:  tensor([[0, 6, 1, 6, 1, 6, 1, 6, 1, 6]])\n",
            "Untrained model predictions:  tensor([[ 0,  9,  0,  9,  0,  9, 10,  5,  5,  5]])\n",
            "Untrained model predictions:  tensor([[0, 0, 0, 0, 0, 0, 1, 1, 1, 1]])\n",
            "Untrained model predictions:  tensor([[ 0, 10,  8,  5,  5,  5,  5,  5,  8,  0]])\n",
            "Untrained model predictions:  tensor([[0, 4, 4, 4, 4, 7, 7, 2, 2, 8]])\n",
            "Untrained model predictions:  tensor([[ 0,  3,  3,  7,  1,  6,  6, 10,  3,  3]])\n"
          ]
        }
      ]
    },
    {
      "cell_type": "markdown",
      "source": [
        "#Model Training"
      ],
      "metadata": {
        "id": "7G6qtFneZK8V"
      }
    },
    {
      "cell_type": "markdown",
      "source": [
        "Batches and Masking"
      ],
      "metadata": {
        "id": "K7E0kY0IZNcm"
      }
    },
    {
      "cell_type": "code",
      "source": [
        "class Batch:\n",
        "    \"\"\"Object for holding a batch of data with mask during training.\"\"\"\n",
        "\n",
        "    def __init__(self, src, tgt=None, pad=2):  # 2 = <blank>\n",
        "        self.src = src\n",
        "        self.src_mask = (src != pad).unsqueeze(-2)\n",
        "        if tgt is not None:\n",
        "            self.tgt = tgt[:, :-1]\n",
        "            self.tgt_y = tgt[:, 1:]\n",
        "            self.tgt_mask = self.make_std_mask(self.tgt, pad)\n",
        "            self.ntokens = (self.tgt_y != pad).data.sum()\n",
        "\n",
        "    @staticmethod\n",
        "    def make_std_mask(tgt, pad):\n",
        "        \"Create a mask to hide padding and future words.\"\n",
        "        tgt_mask = (tgt != pad).unsqueeze(-2)\n",
        "        tgt_mask = tgt_mask & subsequent_mask(tgt.size(-1)).type_as(\n",
        "            tgt_mask.data\n",
        "        )\n",
        "        return tgt_mask"
      ],
      "metadata": {
        "id": "tIasde9_RVQr"
      },
      "execution_count": 23,
      "outputs": []
    },
    {
      "cell_type": "markdown",
      "source": [
        "#Loss Computation:"
      ],
      "metadata": {
        "id": "UtVxatB1jC5Q"
      }
    },
    {
      "cell_type": "code",
      "source": [
        "class SimpleLossCompute:\n",
        "    \"A simple loss compute and train function.\"\n",
        "\n",
        "    def __init__(self, generator, criterion):\n",
        "        self.generator = generator\n",
        "        self.criterion = criterion\n",
        "\n",
        "    def __call__(self, x, y, norm):\n",
        "        x = self.generator(x)\n",
        "        sloss = (\n",
        "            self.criterion(x.contiguous().view(-1, x.size(-1)), y.contiguous().view(-1)) / norm\n",
        "        )\n",
        "        return sloss.data * norm, sloss"
      ],
      "metadata": {
        "id": "Jn5bmlkCjCaP"
      },
      "execution_count": 24,
      "outputs": []
    },
    {
      "cell_type": "markdown",
      "source": [
        "Training Loop"
      ],
      "metadata": {
        "id": "PE_7Zy0AbqzQ"
      }
    },
    {
      "cell_type": "code",
      "source": [
        "class TrainState:\n",
        "    \"\"\"Track number of steps, examples, and tokens processed\"\"\"\n",
        "\n",
        "    step: int = 0  # Steps in the current epoch\n",
        "    accum_step: int = 0  # Number of gradient accumulation steps\n",
        "    samples: int = 0  # total # of examples used\n",
        "    tokens: int = 0  # total # of tokens processed"
      ],
      "metadata": {
        "id": "v-LdN1j1bsFV"
      },
      "execution_count": 25,
      "outputs": []
    },
    {
      "cell_type": "code",
      "source": [
        "def run_epoch(\n",
        "    data_iter,\n",
        "    model,\n",
        "    loss_compute,\n",
        "    optimizer,\n",
        "    scheduler,\n",
        "    mode=\"train\",\n",
        "    accum_iter=1,\n",
        "    train_state=TrainState(),\n",
        "):\n",
        "    \"\"\"Train a single epoch\"\"\"\n",
        "    start = time.time()\n",
        "    total_tokens = 0\n",
        "    total_loss = 0\n",
        "    tokens = 0\n",
        "    n_accum = 0\n",
        "    for i, batch in enumerate(data_iter):\n",
        "        out = model.forward(\n",
        "            batch.src, batch.tgt, batch.src_mask, batch.tgt_mask\n",
        "        )\n",
        "        loss, loss_node = loss_compute(out, batch.tgt_y, batch.ntokens)\n",
        "        # loss_node = loss_node / accum_iter\n",
        "        if mode == \"train\" or mode == \"train+log\":\n",
        "            loss_node.backward()\n",
        "            train_state.step += 1\n",
        "            train_state.samples += batch.src.shape[0]\n",
        "            train_state.tokens += batch.ntokens\n",
        "            if i % accum_iter == 0:\n",
        "                optimizer.step()\n",
        "                optimizer.zero_grad(set_to_none=True)\n",
        "                n_accum += 1\n",
        "                train_state.accum_step += 1\n",
        "            scheduler.step()\n",
        "\n",
        "        total_loss += loss\n",
        "        total_tokens += batch.ntokens\n",
        "        tokens += batch.ntokens\n",
        "        if i % 40 == 1 and (mode == \"train\" or mode == \"train+log\"):\n",
        "            lr = optimizer.param_groups[0][\"lr\"]\n",
        "            elapsed = time.time() - start\n",
        "            print(\n",
        "                (\n",
        "                    \"Epoch Step: %6d | Accumulation Step: %3d | Loss: %6.2f \"\n",
        "                    + \"| Tokens / Sec: %7.1f | Learning Rate: %6.1e\"\n",
        "                )\n",
        "                % (i, n_accum, loss / batch.ntokens, tokens / elapsed, lr)\n",
        "            )\n",
        "            start = time.time()\n",
        "            tokens = 0\n",
        "        del loss\n",
        "        del loss_node\n",
        "    return total_loss / total_tokens, train_state"
      ],
      "metadata": {
        "id": "WLr9ZRkobzQ0"
      },
      "execution_count": 26,
      "outputs": []
    },
    {
      "cell_type": "markdown",
      "source": [
        "Optimizer: Adam\n",
        "\n",
        "implementing a increasing the learning rate linearly for the first warmup_steps training steps, and decreasing it thereafter proportionally to the inverse square root of the step number."
      ],
      "metadata": {
        "id": "epqbqOkohgCz"
      }
    },
    {
      "cell_type": "code",
      "source": [
        "def rate(step, model_size, factor, warmup):\n",
        "    \"\"\"\n",
        "    we have to default the step to 1 for LambdaLR function\n",
        "    to avoid zero raising to negative power.\n",
        "    \"\"\"\n",
        "    if step == 0:\n",
        "        step = 1\n",
        "    return factor * (\n",
        "        model_size ** (-0.5) * min(step ** (-0.5), step * warmup ** (-1.5))\n",
        "    )"
      ],
      "metadata": {
        "id": "1My6U-q6gf_D"
      },
      "execution_count": 27,
      "outputs": []
    },
    {
      "cell_type": "markdown",
      "source": [
        "Label Smoothing\n",
        "\n",
        "This hurts perplexity, as the model learns to be more unsure, but improves accuracy and BLEU score.\n",
        "\n"
      ],
      "metadata": {
        "id": "0an8_u-Kil8V"
      }
    },
    {
      "cell_type": "code",
      "source": [
        "class LabelSmoothing(nn.Module):\n",
        "    \"Implement label smoothing.\"\n",
        "\n",
        "    def __init__(self, size, padding_idx, smoothing=0.0):\n",
        "        super(LabelSmoothing, self).__init__()\n",
        "        self.criterion = nn.KLDivLoss(reduction=\"sum\")\n",
        "        self.padding_idx = padding_idx\n",
        "        self.confidence = 1.0 - smoothing\n",
        "        self.smoothing = smoothing\n",
        "        self.size = size\n",
        "        self.true_dist = None\n",
        "\n",
        "    def forward(self, x, target):\n",
        "        assert x.size(1) == self.size\n",
        "        true_dist = x.data.clone()\n",
        "        true_dist.fill_(self.smoothing / (self.size - 2))\n",
        "        true_dist.scatter_(1, target.data.unsqueeze(1), self.confidence)\n",
        "        true_dist[:, self.padding_idx] = 0\n",
        "        mask = torch.nonzero(target.data == self.padding_idx)\n",
        "        if mask.dim() > 0:\n",
        "            true_dist.index_fill_(0, mask.squeeze(), 0.0)\n",
        "        self.true_dist = true_dist\n",
        "        return self.criterion(x, true_dist.clone().detach())"
      ],
      "metadata": {
        "id": "E85r7zhOgf3u"
      },
      "execution_count": 28,
      "outputs": []
    },
    {
      "cell_type": "markdown",
      "source": [
        "# Example of training with Synthetic Data"
      ],
      "metadata": {
        "id": "qtVv-cT8i4Pl"
      }
    },
    {
      "cell_type": "code",
      "source": [
        "def data_gen(V, batch_size, nbatches):\n",
        "    \"Generate random data for a src-tgt copy task.\"\n",
        "    for i in range(nbatches):\n",
        "        data = torch.randint(1, V, size=(batch_size, 10))\n",
        "        data[:, 0] = 1\n",
        "        src = data.requires_grad_(False).clone().detach()\n",
        "        tgt = data.requires_grad_(False).clone().detach()\n",
        "        yield Batch(src, tgt, 0)"
      ],
      "metadata": {
        "id": "ppTPozLei0ei"
      },
      "execution_count": 29,
      "outputs": []
    },
    {
      "cell_type": "markdown",
      "source": [
        "Decoding : predicts a translation using greedy decoding for simplicity."
      ],
      "metadata": {
        "id": "dimNgyQSjKCr"
      }
    },
    {
      "cell_type": "code",
      "source": [
        "def greedy_decode(model, src, src_mask, max_len, start_symbol):\n",
        "    memory = model.encode(src, src_mask)\n",
        "    ys = torch.zeros(1, 1).fill_(start_symbol).type_as(src.data)\n",
        "    for i in range(max_len - 1):\n",
        "        out = model.decode(\n",
        "            memory, src_mask, ys, subsequent_mask(ys.size(1)).type_as(src.data)\n",
        "        )\n",
        "        prob = model.generator(out[:, -1])\n",
        "        _, next_word = torch.max(prob, dim=1)\n",
        "        next_word = next_word.data[0]\n",
        "        ys = torch.cat(\n",
        "            [ys, torch.zeros(1, 1).type_as(src.data).fill_(next_word)], dim=1\n",
        "        )\n",
        "    return ys"
      ],
      "metadata": {
        "id": "Vp7ihtwzgfuc"
      },
      "execution_count": 30,
      "outputs": []
    },
    {
      "cell_type": "markdown",
      "source": [
        "Training the model on this data"
      ],
      "metadata": {
        "id": "7LeXtgvFjWCI"
      }
    },
    {
      "cell_type": "code",
      "source": [
        "def example_simple_model():\n",
        "    V = 11\n",
        "    criterion = LabelSmoothing(size=V, padding_idx=0, smoothing=0.0)\n",
        "    model = build_model(V, V, N=2)\n",
        "\n",
        "    optimizer = torch.optim.Adam(\n",
        "        model.parameters(), lr=0.5, betas=(0.9, 0.98), eps=1e-9\n",
        "    )\n",
        "    lr_scheduler = LambdaLR(\n",
        "        optimizer=optimizer,\n",
        "        lr_lambda=lambda step: rate(\n",
        "            step, model_size=model.source_embeddings[0].d_model, factor=1.0, warmup=400 # Changed src_embeddings to source_embeddings\n",
        "        ),\n",
        "    )\n",
        "\n",
        "    batch_size = 80\n",
        "    for epoch in range(20):\n",
        "        model.train()\n",
        "        run_epoch(\n",
        "            data_gen(V, batch_size, 20),\n",
        "            model,\n",
        "            SimpleLossCompute(model.generator, criterion),\n",
        "            optimizer,\n",
        "            lr_scheduler,\n",
        "            mode=\"train\",\n",
        "        )\n",
        "        model.eval()\n",
        "        run_epoch(\n",
        "            data_gen(V, batch_size, 5),\n",
        "            model,\n",
        "            SimpleLossCompute(model.generator, criterion),\n",
        "            DummyOptimizer(),\n",
        "            DummyScheduler(),\n",
        "            mode=\"eval\",\n",
        "        )[0]\n",
        "\n",
        "    model.eval()\n",
        "    src = torch.LongTensor([[0, 1, 2, 3, 4, 5, 6, 7, 8, 9]])\n",
        "    max_len = src.shape[1]\n",
        "    src_mask = torch.ones(1, 1, max_len)\n",
        "    print(greedy_decode(model, src, src_mask, max_len=max_len, start_symbol=0))"
      ],
      "metadata": {
        "id": "7KkuItWTjaYH"
      },
      "execution_count": 35,
      "outputs": []
    },
    {
      "cell_type": "code",
      "source": [
        "execute_example(example_simple_model)"
      ],
      "metadata": {
        "colab": {
          "base_uri": "https://localhost:8080/"
        },
        "id": "YnhMk5zIjwyH",
        "outputId": "68c889fa-01fd-4c2c-8973-9f5a7eb878b5"
      },
      "execution_count": 36,
      "outputs": [
        {
          "output_type": "stream",
          "name": "stdout",
          "text": [
            "Epoch Step:      1 | Accumulation Step:   2 | Loss:   2.62 | Tokens / Sec:   470.0 | Learning Rate: 5.5e-06\n",
            "Epoch Step:      1 | Accumulation Step:   2 | Loss:   2.18 | Tokens / Sec:   478.6 | Learning Rate: 6.1e-05\n",
            "Epoch Step:      1 | Accumulation Step:   2 | Loss:   1.98 | Tokens / Sec:   413.2 | Learning Rate: 1.2e-04\n",
            "Epoch Step:      1 | Accumulation Step:   2 | Loss:   1.83 | Tokens / Sec:   473.3 | Learning Rate: 1.7e-04\n",
            "Epoch Step:      1 | Accumulation Step:   2 | Loss:   1.62 | Tokens / Sec:   490.8 | Learning Rate: 2.3e-04\n",
            "Epoch Step:      1 | Accumulation Step:   2 | Loss:   1.36 | Tokens / Sec:   433.4 | Learning Rate: 2.8e-04\n",
            "Epoch Step:      1 | Accumulation Step:   2 | Loss:   1.20 | Tokens / Sec:   478.5 | Learning Rate: 3.4e-04\n",
            "Epoch Step:      1 | Accumulation Step:   2 | Loss:   1.08 | Tokens / Sec:   490.2 | Learning Rate: 3.9e-04\n",
            "Epoch Step:      1 | Accumulation Step:   2 | Loss:   0.86 | Tokens / Sec:   416.1 | Learning Rate: 4.5e-04\n",
            "Epoch Step:      1 | Accumulation Step:   2 | Loss:   0.73 | Tokens / Sec:   482.1 | Learning Rate: 5.0e-04\n",
            "Epoch Step:      1 | Accumulation Step:   2 | Loss:   0.69 | Tokens / Sec:   474.6 | Learning Rate: 5.6e-04\n",
            "Epoch Step:      1 | Accumulation Step:   2 | Loss:   0.69 | Tokens / Sec:   428.6 | Learning Rate: 6.1e-04\n",
            "Epoch Step:      1 | Accumulation Step:   2 | Loss:   0.61 | Tokens / Sec:   491.2 | Learning Rate: 6.7e-04\n",
            "Epoch Step:      1 | Accumulation Step:   2 | Loss:   0.65 | Tokens / Sec:   490.8 | Learning Rate: 7.2e-04\n",
            "Epoch Step:      1 | Accumulation Step:   2 | Loss:   0.59 | Tokens / Sec:   386.0 | Learning Rate: 7.8e-04\n",
            "Epoch Step:      1 | Accumulation Step:   2 | Loss:   0.58 | Tokens / Sec:   492.1 | Learning Rate: 8.3e-04\n",
            "Epoch Step:      1 | Accumulation Step:   2 | Loss:   0.58 | Tokens / Sec:   490.8 | Learning Rate: 8.9e-04\n",
            "Epoch Step:      1 | Accumulation Step:   2 | Loss:   0.51 | Tokens / Sec:   367.4 | Learning Rate: 9.4e-04\n",
            "Epoch Step:      1 | Accumulation Step:   2 | Loss:   0.58 | Tokens / Sec:   492.0 | Learning Rate: 1.0e-03\n",
            "Epoch Step:      1 | Accumulation Step:   2 | Loss:   0.62 | Tokens / Sec:   486.8 | Learning Rate: 1.1e-03\n",
            "tensor([[0, 2, 3, 4, 5, 5, 6, 7, 8, 9]])\n"
          ]
        }
      ]
    }
  ]
}