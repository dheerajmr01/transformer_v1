{
  "nbformat": 4,
  "nbformat_minor": 0,
  "metadata": {
    "colab": {
      "provenance": [],
      "authorship_tag": "ABX9TyOIhWhK3n9VNmSwdcQbT/Kz"
    },
    "kernelspec": {
      "name": "python3",
      "display_name": "Python 3"
    },
    "language_info": {
      "name": "python"
    }
  },
  "cells": [
    {
      "cell_type": "code",
      "execution_count": 61,
      "metadata": {
        "id": "ZOetm8XH-PbU"
      },
      "outputs": [],
      "source": [
        "# !pip install -q torchdata torchtext spacy altair GPUtil\n",
        "# !python -m spacy download de_core_news_sm\n",
        "# !python -m spacy download en_core_web_sm"
      ]
    },
    {
      "cell_type": "code",
      "source": [
        "# !pip install torchtext==0.16.0\n",
        "# !pip install -q torchdata spacy altair GPUtil"
      ],
      "metadata": {
        "id": "P-3GGjRhBQkA"
      },
      "execution_count": 62,
      "outputs": []
    },
    {
      "cell_type": "code",
      "source": [
        "import os\n",
        "from os.path import exists\n",
        "import torch\n",
        "import torch.nn as nn\n",
        "from torch.nn.functional import log_softmax,pad\n",
        "import math\n",
        "import copy\n",
        "import time\n",
        "from torch.optim.lr_scheduler import LambdaLR\n",
        "import pandas as pd\n",
        "import altair as alt\n",
        "# import torchtext\n",
        "# from torchtext.data.functional import to_map_style_dataset\n",
        "# from torch.utils.data import DataLoader\n",
        "# from torchtext.vocab import build_vocab_from_iterator\n",
        "# import torchtext.datasets as datasets\n",
        "# import spacy\n",
        "# import GPUtil\n",
        "import warnings\n",
        "from torch.utils.data.distributed import DistributedSampler\n",
        "import torch.distributed as dist\n",
        "import torch.multiprocessing as mp\n",
        "from torch.nn.parallel import DistributedDataParallel as DDP\n",
        "\n",
        "warnings.filterwarnings(\"ignore\")\n",
        "RUN_EXAMPLES = True\n",
        "print(torch.__version__)\n",
        "# print(torchtext.__version__)"
      ],
      "metadata": {
        "colab": {
          "base_uri": "https://localhost:8080/"
        },
        "id": "ABOBlkXk-0tg",
        "outputId": "6e9986f1-4b96-41ca-fc81-bc9210c87b4b"
      },
      "execution_count": 63,
      "outputs": [
        {
          "output_type": "stream",
          "name": "stdout",
          "text": [
            "2.6.0+cu124\n"
          ]
        }
      ]
    },
    {
      "cell_type": "markdown",
      "source": [
        "#Helper functions:"
      ],
      "metadata": {
        "id": "k1dUm9x6_peF"
      }
    },
    {
      "cell_type": "code",
      "source": [
        "def is_interactive_notebook():\n",
        "    return __name__ == \"__main__\"\n",
        "\n",
        "\n",
        "def show_example(fn, args=[]):\n",
        "    if __name__ == \"__main__\" and RUN_EXAMPLES:\n",
        "        return fn(*args)\n",
        "\n",
        "\n",
        "def execute_example(fn, args=[]):\n",
        "    if __name__ == \"__main__\" and RUN_EXAMPLES:\n",
        "        fn(*args)\n",
        "\n",
        "\n",
        "class DummyOptimizer(torch.optim.Optimizer):\n",
        "    def __init__(self):\n",
        "        self.param_groups = [{\"lr\": 0}]\n",
        "        None\n",
        "\n",
        "    def step(self):\n",
        "        None\n",
        "\n",
        "    def zero_grad(self, set_to_none=False):\n",
        "        None\n",
        "\n",
        "\n",
        "class DummyScheduler:\n",
        "    def step(self):\n",
        "        None"
      ],
      "metadata": {
        "id": "r-8lYDbl_nfA"
      },
      "execution_count": 64,
      "outputs": []
    },
    {
      "cell_type": "markdown",
      "source": [
        "# This is the main model class:"
      ],
      "metadata": {
        "id": "5fkXWhwxGUej"
      }
    },
    {
      "cell_type": "code",
      "source": [
        "class EncoderDecoder(nn.Module):\n",
        "\n",
        "  \"\"\"\n",
        "    Main Architecture of the encoder and decoder\n",
        "  \"\"\"\n",
        "\n",
        "  def __init__(self, encoder, decoder, source_embeddings, target_embeddings, generator):\n",
        "    super(EncoderDecoder, self).__init__()\n",
        "    self.encoder = encoder\n",
        "    self.decoder = decoder\n",
        "    self.generator = generator\n",
        "    self.source_embeddings = source_embeddings\n",
        "    self.target_embeddings = target_embeddings\n",
        "\n",
        "  def forward(self, src, tgt, src_mask, tgt_mask):\n",
        "      \"Take in and process masked src and target sequences.\"\n",
        "      return self.decode(self.encode(src, src_mask), src_mask, tgt, tgt_mask)\n",
        "\n",
        "  def encode(self, source, source_mask):\n",
        "    return self.encoder(self.source_embeddings(source),source_mask)\n",
        "\n",
        "  def decode(self, memory, source_mask, target, target_mask):\n",
        "    return self.decoder(self.target_embeddings(target), memory, source_mask, target_mask)"
      ],
      "metadata": {
        "id": "65qTS9j-Al9g"
      },
      "execution_count": 65,
      "outputs": []
    },
    {
      "cell_type": "markdown",
      "source": [
        "# Now we build the encoder, decoder, self-attention, generator, embedding classes."
      ],
      "metadata": {
        "id": "aDpavGYdGaMu"
      }
    },
    {
      "cell_type": "code",
      "source": [
        "class Generator(nn.Module):\n",
        "  def __init__(self, d_model, vocab) -> None:\n",
        "     super(Generator,self).__init__()\n",
        "     self.projections = nn.Linear(d_model, vocab)\n",
        "\n",
        "  def forward(self,x):\n",
        "    return log_softmax(self.projections(x), dim=1)"
      ],
      "metadata": {
        "id": "l7AChiKLFSzq"
      },
      "execution_count": 66,
      "outputs": []
    },
    {
      "cell_type": "code",
      "source": [
        "def clones(module, N):\n",
        "  \"\"\"\n",
        "  Duplicating layers\n",
        "\n",
        "  \"\"\"\n",
        "  return nn.ModuleList([copy.deepcopy(module) for _ in range(N)])"
      ],
      "metadata": {
        "id": "lM99kFWKHKuS"
      },
      "execution_count": 67,
      "outputs": []
    },
    {
      "cell_type": "markdown",
      "source": [
        "#Encoder Layer"
      ],
      "metadata": {
        "id": "KcuhioL1Tku2"
      }
    },
    {
      "cell_type": "code",
      "source": [
        "class Encoder(nn.Module):\n",
        "  \"Stack of N layers\"\n",
        "\n",
        "  def __init__(self, layer, N):\n",
        "    super(Encoder,self).__init__()\n",
        "    self.layers = clones(layer,N)\n",
        "    self.norm = LayerNorm(layer.size)\n",
        "\n",
        "  def forward(self,x, mask):\n",
        "    \"pass the input and mask thu each layer\"\n",
        "    for layer in self.layers:\n",
        "      x  = layer(x,mask)\n",
        "    return self.norm(x)"
      ],
      "metadata": {
        "id": "GGZ2fA5jTkb0"
      },
      "execution_count": 68,
      "outputs": []
    },
    {
      "cell_type": "code",
      "source": [
        "class LayerNorm(nn.Module):\n",
        "    \"Construct a layernorm module as per paperand standards for reducing training time \"\n",
        "\n",
        "    def __init__(self, features, eps = 1e-6):\n",
        "      super(LayerNorm, self).__init__()\n",
        "      self.a_2 = nn.Parameter(torch.ones(features))\n",
        "      self.b_2 = nn.Parameter(torch.zeros(features))\n",
        "      self.eps = eps\n",
        "\n",
        "    def forward(self, x):\n",
        "      mean = x.mean(-1, keepdim=True)\n",
        "      std = x.std(-1, keepdim=True)\n",
        "      return self.a_2 * (x - mean)/ (std + self.eps) + self.b_2\n"
      ],
      "metadata": {
        "id": "YpWudLUhTiDN"
      },
      "execution_count": 69,
      "outputs": []
    },
    {
      "cell_type": "code",
      "source": [
        "class SublayerConnection(nn.Module):\n",
        "    \"\"\"\n",
        "    A residual connection followed by a layer norm.\n",
        "    for code simplicity the norm is first as opposed to last.\n",
        "    \"\"\"\n",
        "\n",
        "    def __init__(self, size, dropout):\n",
        "        super(SublayerConnection, self).__init__()\n",
        "        self.norm = LayerNorm(size)\n",
        "        self.dropout = nn.Dropout(dropout)\n",
        "\n",
        "    def forward(self, x, sublayer):\n",
        "        \"Apply residual connection to any sublayer with the same size.\"\n",
        "        return x + self.dropout(sublayer(self.norm(x)))"
      ],
      "metadata": {
        "id": "_0lQ-uNgU_Yb"
      },
      "execution_count": 70,
      "outputs": []
    },
    {
      "cell_type": "code",
      "source": [
        "class EncoderLayer(nn.Module):\n",
        "  \"Self attention layer and feed forward Layer\"\n",
        "  def __init__(self, size, self_attn, feed_forward, dropout):\n",
        "    super(EncoderLayer,self).__init__()\n",
        "    self.self_attn = self_attn\n",
        "    self.feed_forward = feed_forward\n",
        "    self.sublayer = clones(SublayerConnection(size, dropout), 2)\n",
        "    self.size = size\n",
        "\n",
        "  def forward(self,x, mask):\n",
        "    x = self.sublayer[0](x, lambda x: self.self_attn(x, x, x, mask))\n",
        "    return self.sublayer[1](x, self.feed_forward)\n",
        ""
      ],
      "metadata": {
        "id": "qxq0DKzyfA_a"
      },
      "execution_count": 71,
      "outputs": []
    },
    {
      "cell_type": "markdown",
      "source": [
        "#Decoder Layer"
      ],
      "metadata": {
        "id": "m_vZVzuse9lA"
      }
    },
    {
      "cell_type": "code",
      "source": [
        "class Decoder(nn.Module):\n",
        "  \"N layer Decoder\"\n",
        "  def __init__(self,layer, N):\n",
        "    super(Decoder, self).__init__()\n",
        "    self.layers = clones(layer,N)\n",
        "    self.norm = LayerNorm(layer.size)\n",
        "\n",
        "  def forward(self,x, memory, source_mask, target_mask):\n",
        "    for layer in self.layers:\n",
        "      x = layer(x, memory, source_mask, target_mask)\n",
        "    return self.norm(x)"
      ],
      "metadata": {
        "id": "RhmVM8DVfA86"
      },
      "execution_count": 72,
      "outputs": []
    },
    {
      "cell_type": "code",
      "source": [
        "class DecoderLayer(nn.Module):\n",
        "    \"Decoder is made of self-attn, src-attn, and feed forward (defined below)\"\n",
        "\n",
        "    def __init__(self, size, self_attn, src_attn, feed_forward, dropout):\n",
        "        super(DecoderLayer, self).__init__()\n",
        "        self.size = size\n",
        "        self.self_attn = self_attn\n",
        "        self.src_attn = src_attn\n",
        "        self.feed_forward = feed_forward\n",
        "        self.sublayer = clones(SublayerConnection(size, dropout), 3)\n",
        "\n",
        "    def forward(self, x, memory, src_mask, tgt_mask):\n",
        "        m = memory\n",
        "        x = self.sublayer[0](x, lambda x: self.self_attn(x, x, x, tgt_mask))\n",
        "        x = self.sublayer[1](x, lambda x: self.src_attn(x, m, m, src_mask))\n",
        "        return self.sublayer[2](x, self.feed_forward)"
      ],
      "metadata": {
        "id": "xvxtX3dxfA6L"
      },
      "execution_count": 73,
      "outputs": []
    },
    {
      "cell_type": "code",
      "source": [
        "def subsequent_mask(size):\n",
        "    \"Mask out subsequent positions.\"\n",
        "    attn_shape = (1, size, size)\n",
        "    subsequent_mask = torch.triu(torch.ones(attn_shape), diagonal=1).type(torch.uint8)\n",
        "    return subsequent_mask == 0"
      ],
      "metadata": {
        "id": "xAIurlYKfA3l"
      },
      "execution_count": 74,
      "outputs": []
    },
    {
      "cell_type": "markdown",
      "source": [
        "# Attention mechanism:\n",
        "Here i implement standard attention mechanism which is a scaled dot product attention."
      ],
      "metadata": {
        "id": "rpUfJXXEDJJa"
      }
    },
    {
      "cell_type": "code",
      "source": [
        "def attention(query, key, value, mask=None, dropout=None):\n",
        "  \"\"\"Computing the scaled dot product\"\"\"\n",
        "  dim_k = query.size(-1)\n",
        "  scores = query @ key.transpose(-2,-1) / math.sqrt(dim_k)\n",
        "  if mask is not None:\n",
        "    scores = scores.masked_fill(mask == 0, -1e9)\n",
        "  p_attn = scores.softmax(dim=-1)\n",
        "  if dropout is not None:\n",
        "    p_attn = dropout(p_attn)\n",
        "  return p_attn @ value , p_attn"
      ],
      "metadata": {
        "id": "CpfyBh5ZfA0r"
      },
      "execution_count": 75,
      "outputs": []
    },
    {
      "cell_type": "code",
      "source": [
        "from re import X\n",
        "class MultiHeadedAttention(nn.Module):\n",
        "  def __init__(self, h, dim_model, dropout=0.1):\n",
        "    \"Take in model size and number of heads.\"\n",
        "    super(MultiHeadedAttention, self).__init__()\n",
        "    assert dim_model % h == 0\n",
        "    # Assume dim of value and key are same\n",
        "    self.dim_k = dim_model // h\n",
        "    self.h = h\n",
        "    self.linears = clones(nn.Linear(dim_model, dim_model), 4)\n",
        "    self.attn = None\n",
        "    self.dropout = nn.Dropout(p=dropout)\n",
        "\n",
        "  def forward(self,query, key, value, mask = None):\n",
        "    if mask is not None:\n",
        "      mask = mask.unsqueeze(1)\n",
        "\n",
        "    nbatches = query.size(0)\n",
        "\n",
        "    query, key, value = [lin(x).view(nbatches, -1, self.h, self.dim_k).transpose(1,2) for lin, x in zip(self.linears,(query, key, value))]\n",
        "\n",
        "    # Applying attention on all the projected vectors in batch\n",
        "    x, self.attn = attention(query, key, value, mask=mask, dropout = self.dropout)\n",
        "\n",
        "    # Concat using view and applying final linear\n",
        "    x = (x.transpose(1,2).contiguous().view(nbatches,-1, self.h * self.dim_k))\n",
        "\n",
        "    del query\n",
        "    del key\n",
        "    del value\n",
        "    return self.linears[-1](x)\n"
      ],
      "metadata": {
        "id": "POfOs6NWEvcu"
      },
      "execution_count": 76,
      "outputs": []
    },
    {
      "cell_type": "markdown",
      "source": [
        "# Embeddings and positional encoding\n"
      ],
      "metadata": {
        "id": "gjnxxw1mGzyV"
      }
    },
    {
      "cell_type": "code",
      "source": [
        "class PositionwiseFeedForward(nn.Module):\n",
        "    \"Implements FFN equation.\"\n",
        "\n",
        "    def __init__(self, dim_model, d_ff, dropout=0.1):\n",
        "        super(PositionwiseFeedForward, self).__init__()\n",
        "        self.w_1 = nn.Linear(dim_model, d_ff)\n",
        "        self.w_2 = nn.Linear(d_ff, dim_model)\n",
        "        self.dropout = nn.Dropout(dropout)\n",
        "\n",
        "    def forward(self, x):\n",
        "        return self.w_2(self.dropout(self.w_1(x).relu()))"
      ],
      "metadata": {
        "id": "s99DZmYQ1epr"
      },
      "execution_count": 77,
      "outputs": []
    },
    {
      "cell_type": "code",
      "source": [
        "class Embeddings(nn.Module):\n",
        "    def __init__(self, d_model, vocab):\n",
        "        super(Embeddings, self).__init__()\n",
        "        self.lut = nn.Embedding(vocab, d_model)\n",
        "        self.d_model = d_model\n",
        "\n",
        "    def forward(self, x):\n",
        "        return self.lut(x) * math.sqrt(self.d_model)"
      ],
      "metadata": {
        "id": "imHr79mHG1gu"
      },
      "execution_count": 78,
      "outputs": []
    },
    {
      "cell_type": "code",
      "source": [
        "class PositionalEncoding(nn.Module):\n",
        "    \"Implementing the PE function using sin and cos waves.\"\n",
        "\n",
        "    def __init__(self, d_model, dropout, max_len=5000):\n",
        "        super(PositionalEncoding, self).__init__()\n",
        "        self.dropout = nn.Dropout(p=dropout)\n",
        "\n",
        "        # Compute the positional encodings once in log space.\n",
        "        pe = torch.zeros(max_len, d_model)\n",
        "        position = torch.arange(0, max_len).unsqueeze(1)\n",
        "        div_term = torch.exp(\n",
        "            torch.arange(0, d_model, 2) * -(math.log(10000.0) / d_model)\n",
        "        )\n",
        "        pe[:, 0::2] = torch.sin(position * div_term)\n",
        "        pe[:, 1::2] = torch.cos(position * div_term)\n",
        "        pe = pe.unsqueeze(0)\n",
        "        self.register_buffer(\"pe\", pe)\n",
        "\n",
        "    def forward(self, x):\n",
        "        x = x + self.pe[:, : x.size(1)].requires_grad_(False)\n",
        "        return self.dropout(x)"
      ],
      "metadata": {
        "id": "3sirI8nxHLuw"
      },
      "execution_count": 79,
      "outputs": []
    },
    {
      "cell_type": "markdown",
      "source": [
        "# Model:"
      ],
      "metadata": {
        "id": "31yooynGKmS_"
      }
    },
    {
      "cell_type": "code",
      "source": [
        "def build_model(source_vocab, target_vocab, N=6, dim_model=512, dim_feed_forward=2048, h=8, dropout=0.1):\n",
        "  \"\"\"Constructing a model with the given parameters\"\"\"\n",
        "\n",
        "  c = copy.deepcopy\n",
        "  attn = MultiHeadedAttention(h,dim_model)\n",
        "  ff = PositionwiseFeedForward(dim_model, dim_feed_forward, dropout)\n",
        "  position = PositionalEncoding(dim_model, dropout)\n",
        "\n",
        "  model = EncoderDecoder(\n",
        "      Encoder(EncoderLayer(dim_model, c(attn), c(ff), dropout), N),\n",
        "      Decoder(DecoderLayer(dim_model, c(attn), c(attn), c(ff), dropout), N),\n",
        "      nn.Sequential(Embeddings(dim_model, source_vocab), c(position)),\n",
        "      nn.Sequential(Embeddings(dim_model, target_vocab), c(position)),\n",
        "      Generator(dim_model, target_vocab)\n",
        "  )\n",
        "\n",
        "  for p in model.parameters():\n",
        "    if p.dim() > 1:\n",
        "      nn.init.xavier_uniform_(p)\n",
        "  return model"
      ],
      "metadata": {
        "id": "4Bblq8WHKtXf"
      },
      "execution_count": 80,
      "outputs": []
    },
    {
      "cell_type": "markdown",
      "source": [
        "# Inferencing without training the transformer model"
      ],
      "metadata": {
        "id": "FhbgLvRQN5Hx"
      }
    },
    {
      "cell_type": "code",
      "source": [
        "def inference_test():\n",
        "  test_model = build_model(11,11,2)\n",
        "  test_model.eval()\n",
        "  source = torch.LongTensor([[1,2,3,4,5,6,7,8,9,10]])\n",
        "  source_mask = torch.ones(1,1,10)\n",
        "\n",
        "  memory = test_model.encode(source,source_mask)\n",
        "  ys = torch.zeros(1,1).type_as(source)\n",
        "\n",
        "\n",
        "  for i in range(9):\n",
        "    out = test_model.decode(\n",
        "        memory,source_mask, ys, subsequent_mask(ys.size(1)).type_as(source.data)\n",
        "        )\n",
        "\n",
        "    prob = test_model.generator(out[:, -1])\n",
        "    _, next_word = torch.max(prob, dim=1)\n",
        "    next_word = next_word.data[0]\n",
        "    ys = torch.cat(\n",
        "        [ys, torch.empty(1,1).type_as(source.data).fill_(next_word)], dim=1\n",
        "    )\n",
        "\n",
        "  print(\"Untrained model predictions: \", ys)\n"
      ],
      "metadata": {
        "id": "UMg7pFZ9M9RS"
      },
      "execution_count": 81,
      "outputs": []
    },
    {
      "cell_type": "code",
      "source": [
        "def run_tests():\n",
        "  for _ in range(10):\n",
        "    inference_test()\n",
        "\n",
        "show_example(run_tests)"
      ],
      "metadata": {
        "colab": {
          "base_uri": "https://localhost:8080/"
        },
        "id": "f0WbHTaoRLsK",
        "outputId": "ddef17d9-4212-4e17-99f7-0c7f835310ff"
      },
      "execution_count": 82,
      "outputs": [
        {
          "output_type": "stream",
          "name": "stdout",
          "text": [
            "Untrained model predictions:  tensor([[0, 4, 1, 7, 7, 1, 7, 0, 4, 1]])\n",
            "Untrained model predictions:  tensor([[0, 1, 3, 2, 2, 2, 2, 2, 9, 4]])\n",
            "Untrained model predictions:  tensor([[ 0, 10, 10, 10,  1,  9,  9,  9,  9,  9]])\n",
            "Untrained model predictions:  tensor([[ 0,  4,  2, 10, 10,  9,  5,  1,  9,  5]])\n",
            "Untrained model predictions:  tensor([[0, 8, 9, 0, 8, 9, 0, 0, 0, 0]])\n",
            "Untrained model predictions:  tensor([[ 0, 10,  2,  9,  2,  9,  3,  5, 10,  2]])\n",
            "Untrained model predictions:  tensor([[0, 0, 0, 0, 0, 4, 0, 5, 4, 0]])\n",
            "Untrained model predictions:  tensor([[0, 1, 0, 9, 0, 9, 0, 6, 6, 4]])\n",
            "Untrained model predictions:  tensor([[ 0,  9, 10, 10,  9, 10,  9, 10,  9, 10]])\n",
            "Untrained model predictions:  tensor([[0, 9, 9, 9, 9, 9, 9, 9, 9, 9]])\n"
          ]
        }
      ]
    },
    {
      "cell_type": "markdown",
      "source": [
        "#Model Training"
      ],
      "metadata": {
        "id": "7G6qtFneZK8V"
      }
    },
    {
      "cell_type": "markdown",
      "source": [
        "Batches and Masking"
      ],
      "metadata": {
        "id": "K7E0kY0IZNcm"
      }
    },
    {
      "cell_type": "code",
      "source": [
        "class Batch:\n",
        "    \"\"\"Object for holding a batch of data with mask during training.\"\"\"\n",
        "\n",
        "    def __init__(self, src, tgt=None, pad=2):  # 2 = <blank>\n",
        "        self.src = src\n",
        "        self.src_mask = (src != pad).unsqueeze(-2)\n",
        "        if tgt is not None:\n",
        "            self.tgt = tgt[:, :-1]\n",
        "            self.tgt_y = tgt[:, 1:]\n",
        "            self.tgt_mask = self.make_std_mask(self.tgt, pad)\n",
        "            self.ntokens = (self.tgt_y != pad).data.sum()\n",
        "\n",
        "    @staticmethod\n",
        "    def make_std_mask(tgt, pad):\n",
        "        \"Create a mask to hide padding and future words.\"\n",
        "        tgt_mask = (tgt != pad).unsqueeze(-2)\n",
        "        tgt_mask = tgt_mask & subsequent_mask(tgt.size(-1)).type_as(\n",
        "            tgt_mask.data\n",
        "        )\n",
        "        return tgt_mask"
      ],
      "metadata": {
        "id": "tIasde9_RVQr"
      },
      "execution_count": 83,
      "outputs": []
    },
    {
      "cell_type": "markdown",
      "source": [
        "Loss Computation:"
      ],
      "metadata": {
        "id": "UtVxatB1jC5Q"
      }
    },
    {
      "cell_type": "code",
      "source": [
        "class SimpleLossCompute:\n",
        "    \"A simple loss compute and train function.\"\n",
        "\n",
        "    def __init__(self, generator, criterion):\n",
        "        self.generator = generator\n",
        "        self.criterion = criterion\n",
        "\n",
        "    def __call__(self, x, y, norm):\n",
        "        x = self.generator(x)\n",
        "        sloss = (\n",
        "            self.criterion(\n",
        "                x.contiguous().view(-1, x.size(-1)), y.contiguous().view(-1)\n",
        "            )\n",
        "            / norm\n",
        "        )\n",
        "        return sloss.data * norm, sloss"
      ],
      "metadata": {
        "id": "Jn5bmlkCjCaP"
      },
      "execution_count": 84,
      "outputs": []
    },
    {
      "cell_type": "markdown",
      "source": [
        "Training Loop"
      ],
      "metadata": {
        "id": "PE_7Zy0AbqzQ"
      }
    },
    {
      "cell_type": "code",
      "source": [
        "class TrainState:\n",
        "    \"\"\"Track number of steps, examples, and tokens processed\"\"\"\n",
        "\n",
        "    step: int = 0  # Steps in the current epoch\n",
        "    accum_step: int = 0  # Number of gradient accumulation steps\n",
        "    samples: int = 0  # total # of examples used\n",
        "    tokens: int = 0  # total # of tokens processed"
      ],
      "metadata": {
        "id": "v-LdN1j1bsFV"
      },
      "execution_count": 85,
      "outputs": []
    },
    {
      "cell_type": "code",
      "source": [
        "def run_epoch(\n",
        "    data_iter,\n",
        "    model,\n",
        "    loss_compute,\n",
        "    optimizer,\n",
        "    scheduler,\n",
        "    mode=\"train\",\n",
        "    accum_iter=1,\n",
        "    train_state=TrainState(),\n",
        "):\n",
        "    \"\"\"Train a single epoch\"\"\"\n",
        "    start = time.time()\n",
        "    total_tokens = 0\n",
        "    total_loss = 0\n",
        "    tokens = 0\n",
        "    n_accum = 0\n",
        "    for i, batch in enumerate(data_iter):\n",
        "        out = model.forward(\n",
        "            batch.src, batch.tgt, batch.src_mask, batch.tgt_mask\n",
        "        )\n",
        "        loss, loss_node = loss_compute(out, batch.tgt_y, batch.ntokens)\n",
        "        # loss_node = loss_node / accum_iter\n",
        "        if mode == \"train\" or mode == \"train+log\":\n",
        "            loss_node.backward()\n",
        "            train_state.step += 1\n",
        "            train_state.samples += batch.src.shape[0]\n",
        "            train_state.tokens += batch.ntokens\n",
        "            if i % accum_iter == 0:\n",
        "                optimizer.step()\n",
        "                optimizer.zero_grad(set_to_none=True)\n",
        "                n_accum += 1\n",
        "                train_state.accum_step += 1\n",
        "            scheduler.step()\n",
        "\n",
        "        total_loss += loss\n",
        "        total_tokens += batch.ntokens\n",
        "        tokens += batch.ntokens\n",
        "        if i % 40 == 1 and (mode == \"train\" or mode == \"train+log\"):\n",
        "            lr = optimizer.param_groups[0][\"lr\"]\n",
        "            elapsed = time.time() - start\n",
        "            print(\n",
        "                (\n",
        "                    \"Epoch Step: %6d | Accumulation Step: %3d | Loss: %6.2f \"\n",
        "                    + \"| Tokens / Sec: %7.1f | Learning Rate: %6.1e\"\n",
        "                )\n",
        "                % (i, n_accum, loss / batch.ntokens, tokens / elapsed, lr)\n",
        "            )\n",
        "            start = time.time()\n",
        "            tokens = 0\n",
        "        del loss\n",
        "        del loss_node\n",
        "    return total_loss / total_tokens, train_state"
      ],
      "metadata": {
        "id": "WLr9ZRkobzQ0"
      },
      "execution_count": 86,
      "outputs": []
    },
    {
      "cell_type": "markdown",
      "source": [
        "Optimizer: Adam\n",
        "\n",
        "implementing a increasing the learning rate linearly for the first warmup_steps training steps, and decreasing it thereafter proportionally to the inverse square root of the step number."
      ],
      "metadata": {
        "id": "epqbqOkohgCz"
      }
    },
    {
      "cell_type": "code",
      "source": [
        "def rate(step, model_size, factor, warmup):\n",
        "    \"\"\"\n",
        "    we have to default the step to 1 for LambdaLR function\n",
        "    to avoid zero raising to negative power.\n",
        "    \"\"\"\n",
        "    if step == 0:\n",
        "        step = 1\n",
        "    return factor * (\n",
        "        model_size ** (-0.5) * min(step ** (-0.5), step * warmup ** (-1.5))\n",
        "    )"
      ],
      "metadata": {
        "id": "1My6U-q6gf_D"
      },
      "execution_count": 87,
      "outputs": []
    },
    {
      "cell_type": "markdown",
      "source": [
        "Label Smoothing\n",
        "\n",
        "This hurts perplexity, as the model learns to be more unsure, but improves accuracy and BLEU score.\n",
        "\n"
      ],
      "metadata": {
        "id": "0an8_u-Kil8V"
      }
    },
    {
      "cell_type": "code",
      "source": [
        "class LabelSmoothing(nn.Module):\n",
        "    \"Implement label smoothing.\"\n",
        "\n",
        "    def __init__(self, size, padding_idx, smoothing=0.0):\n",
        "        super(LabelSmoothing, self).__init__()\n",
        "        self.criterion = nn.KLDivLoss(reduction=\"sum\")\n",
        "        self.padding_idx = padding_idx\n",
        "        self.confidence = 1.0 - smoothing\n",
        "        self.smoothing = smoothing\n",
        "        self.size = size\n",
        "        self.true_dist = None\n",
        "\n",
        "    def forward(self, x, target):\n",
        "        assert x.size(1) == self.size\n",
        "        true_dist = x.data.clone()\n",
        "        true_dist.fill_(self.smoothing / (self.size - 2))\n",
        "        true_dist.scatter_(1, target.data.unsqueeze(1), self.confidence)\n",
        "        true_dist[:, self.padding_idx] = 0\n",
        "        mask = torch.nonzero(target.data == self.padding_idx)\n",
        "        if mask.dim() > 0:\n",
        "            true_dist.index_fill_(0, mask.squeeze(), 0.0)\n",
        "        self.true_dist = true_dist\n",
        "        return self.criterion(x, true_dist.clone().detach())"
      ],
      "metadata": {
        "id": "E85r7zhOgf3u"
      },
      "execution_count": 88,
      "outputs": []
    },
    {
      "cell_type": "markdown",
      "source": [
        "# Example of training with Synthetic Data"
      ],
      "metadata": {
        "id": "qtVv-cT8i4Pl"
      }
    },
    {
      "cell_type": "code",
      "source": [
        "def data_gen(V, batch_size, nbatches):\n",
        "    \"Generate random data for a src-tgt copy task.\"\n",
        "    for i in range(nbatches):\n",
        "        data = torch.randint(1, V, size=(batch_size, 10))\n",
        "        data[:, 0] = 1\n",
        "        src = data.requires_grad_(False).clone().detach()\n",
        "        tgt = data.requires_grad_(False).clone().detach()\n",
        "        yield Batch(src, tgt, 0)"
      ],
      "metadata": {
        "id": "ppTPozLei0ei"
      },
      "execution_count": 89,
      "outputs": []
    },
    {
      "cell_type": "markdown",
      "source": [
        "Decoding : predicts a translation using greedy decoding for simplicity."
      ],
      "metadata": {
        "id": "dimNgyQSjKCr"
      }
    },
    {
      "cell_type": "code",
      "source": [
        "def greedy_decode(model, src, src_mask, max_len, start_symbol):\n",
        "    memory = model.encode(src, src_mask)\n",
        "    ys = torch.zeros(1, 1).fill_(start_symbol).type_as(src.data)\n",
        "    for i in range(max_len - 1):\n",
        "        out = model.decode(\n",
        "            memory, src_mask, ys, subsequent_mask(ys.size(1)).type_as(src.data)\n",
        "        )\n",
        "        prob = model.generator(out[:, -1])\n",
        "        _, next_word = torch.max(prob, dim=1)\n",
        "        next_word = next_word.data[0]\n",
        "        ys = torch.cat(\n",
        "            [ys, torch.zeros(1, 1).type_as(src.data).fill_(next_word)], dim=1\n",
        "        )\n",
        "    return ys"
      ],
      "metadata": {
        "id": "Vp7ihtwzgfuc"
      },
      "execution_count": 90,
      "outputs": []
    },
    {
      "cell_type": "markdown",
      "source": [
        "Training the model on this data"
      ],
      "metadata": {
        "id": "7LeXtgvFjWCI"
      }
    },
    {
      "cell_type": "code",
      "source": [
        "def example_simple_model():\n",
        "    V = 11\n",
        "    criterion = LabelSmoothing(size=V, padding_idx=0, smoothing=0.0)\n",
        "    model = build_model(V, V, N=2)\n",
        "\n",
        "    optimizer = torch.optim.Adam(\n",
        "        model.parameters(), lr=0.5, betas=(0.9, 0.98), eps=1e-9\n",
        "    )\n",
        "    lr_scheduler = LambdaLR(\n",
        "        optimizer=optimizer,\n",
        "        lr_lambda=lambda step: rate(\n",
        "            step, model_size=model.source_embeddings[0].d_model, factor=1.0, warmup=400 # Changed src_embeddings to source_embeddings\n",
        "        ),\n",
        "    )\n",
        "\n",
        "    batch_size = 80\n",
        "    for epoch in range(20):\n",
        "        model.train()\n",
        "        run_epoch(\n",
        "            data_gen(V, batch_size, 20),\n",
        "            model,\n",
        "            SimpleLossCompute(model.generator, criterion),\n",
        "            optimizer,\n",
        "            lr_scheduler,\n",
        "            mode=\"train\",\n",
        "        )\n",
        "        model.eval()\n",
        "        run_epoch(\n",
        "            data_gen(V, batch_size, 5),\n",
        "            model,\n",
        "            SimpleLossCompute(model.generator, criterion),\n",
        "            DummyOptimizer(),\n",
        "            DummyScheduler(),\n",
        "            mode=\"eval\",\n",
        "        )[0]\n",
        "\n",
        "    model.eval()\n",
        "    src = torch.LongTensor([[0, 1, 2, 3, 4, 5, 6, 7, 8, 9]])\n",
        "    max_len = src.shape[1]\n",
        "    src_mask = torch.ones(1, 1, max_len)\n",
        "    print(greedy_decode(model, src, src_mask, max_len=max_len, start_symbol=0))"
      ],
      "metadata": {
        "id": "7KkuItWTjaYH"
      },
      "execution_count": 96,
      "outputs": []
    },
    {
      "cell_type": "code",
      "source": [
        "execute_example(example_simple_model)"
      ],
      "metadata": {
        "colab": {
          "base_uri": "https://localhost:8080/"
        },
        "id": "YnhMk5zIjwyH",
        "outputId": "c828342a-265a-4d41-dd78-e59ef1ba2026"
      },
      "execution_count": 97,
      "outputs": [
        {
          "output_type": "stream",
          "name": "stdout",
          "text": [
            "Epoch Step:      1 | Accumulation Step:   2 | Loss:   2.71 | Tokens / Sec:   321.4 | Learning Rate: 5.5e-06\n",
            "Epoch Step:      1 | Accumulation Step:   2 | Loss:   2.18 | Tokens / Sec:   481.8 | Learning Rate: 6.1e-05\n",
            "Epoch Step:      1 | Accumulation Step:   2 | Loss:   1.98 | Tokens / Sec:   472.7 | Learning Rate: 1.2e-04\n",
            "Epoch Step:      1 | Accumulation Step:   2 | Loss:   1.77 | Tokens / Sec:   475.3 | Learning Rate: 1.7e-04\n",
            "Epoch Step:      1 | Accumulation Step:   2 | Loss:   1.62 | Tokens / Sec:   352.6 | Learning Rate: 2.3e-04\n",
            "Epoch Step:      1 | Accumulation Step:   2 | Loss:   1.37 | Tokens / Sec:   467.0 | Learning Rate: 2.8e-04\n",
            "Epoch Step:      1 | Accumulation Step:   2 | Loss:   1.22 | Tokens / Sec:   453.0 | Learning Rate: 3.4e-04\n",
            "Epoch Step:      1 | Accumulation Step:   2 | Loss:   1.06 | Tokens / Sec:   379.8 | Learning Rate: 3.9e-04\n",
            "Epoch Step:      1 | Accumulation Step:   2 | Loss:   0.94 | Tokens / Sec:   442.4 | Learning Rate: 4.5e-04\n",
            "Epoch Step:      1 | Accumulation Step:   2 | Loss:   0.88 | Tokens / Sec:   474.2 | Learning Rate: 5.0e-04\n",
            "Epoch Step:      1 | Accumulation Step:   2 | Loss:   0.79 | Tokens / Sec:   461.5 | Learning Rate: 5.6e-04\n",
            "Epoch Step:      1 | Accumulation Step:   2 | Loss:   0.68 | Tokens / Sec:   371.5 | Learning Rate: 6.1e-04\n",
            "Epoch Step:      1 | Accumulation Step:   2 | Loss:   0.68 | Tokens / Sec:   460.1 | Learning Rate: 6.7e-04\n",
            "Epoch Step:      1 | Accumulation Step:   2 | Loss:   0.62 | Tokens / Sec:   462.7 | Learning Rate: 7.2e-04\n",
            "Epoch Step:      1 | Accumulation Step:   2 | Loss:   0.59 | Tokens / Sec:   463.3 | Learning Rate: 7.8e-04\n",
            "Epoch Step:      1 | Accumulation Step:   2 | Loss:   0.65 | Tokens / Sec:   359.9 | Learning Rate: 8.3e-04\n",
            "Epoch Step:      1 | Accumulation Step:   2 | Loss:   0.56 | Tokens / Sec:   423.9 | Learning Rate: 8.9e-04\n",
            "Epoch Step:      1 | Accumulation Step:   2 | Loss:   0.58 | Tokens / Sec:   484.4 | Learning Rate: 9.4e-04\n",
            "Epoch Step:      1 | Accumulation Step:   2 | Loss:   0.58 | Tokens / Sec:   500.9 | Learning Rate: 1.0e-03\n",
            "Epoch Step:      1 | Accumulation Step:   2 | Loss:   0.62 | Tokens / Sec:   389.0 | Learning Rate: 1.1e-03\n",
            "tensor([[0, 9, 2, 3, 4, 5, 6, 7, 8, 9]])\n"
          ]
        }
      ]
    }
  ]
}