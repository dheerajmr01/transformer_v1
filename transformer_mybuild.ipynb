{
  "nbformat": 4,
  "nbformat_minor": 0,
  "metadata": {
    "colab": {
      "provenance": [],
      "authorship_tag": "ABX9TyN/Ft5GwS0Jcbbi9BJ6vNzP"
    },
    "kernelspec": {
      "name": "python3",
      "display_name": "Python 3"
    },
    "language_info": {
      "name": "python"
    }
  },
  "cells": [
    {
      "cell_type": "code",
      "execution_count": 124,
      "metadata": {
        "id": "ZOetm8XH-PbU"
      },
      "outputs": [],
      "source": [
        "# !pip install -q torchdata torchtext spacy altair GPUtil\n",
        "# !python -m spacy download de_core_news_sm\n",
        "# !python -m spacy download en_core_web_sm"
      ]
    },
    {
      "cell_type": "code",
      "source": [
        "# !pip install torchtext==0.16.0\n",
        "# !pip install -q torchdata spacy altair GPUtil"
      ],
      "metadata": {
        "id": "P-3GGjRhBQkA"
      },
      "execution_count": 125,
      "outputs": []
    },
    {
      "cell_type": "code",
      "source": [
        "import os\n",
        "from os.path import exists\n",
        "import torch\n",
        "import torch.nn as nn\n",
        "from torch.nn.functional import log_softmax,pad\n",
        "import math\n",
        "import copy\n",
        "import time\n",
        "from torch.optim.lr_scheduler import LambdaLR\n",
        "import pandas as pd\n",
        "import altair as alt\n",
        "# import torchtext\n",
        "# from torchtext.data.functional import to_map_style_dataset\n",
        "# from torch.utils.data import DataLoader\n",
        "# from torchtext.vocab import build_vocab_from_iterator\n",
        "# import torchtext.datasets as datasets\n",
        "# import spacy\n",
        "# import GPUtil\n",
        "import warnings\n",
        "from torch.utils.data.distributed import DistributedSampler\n",
        "import torch.distributed as dist\n",
        "import torch.multiprocessing as mp\n",
        "from torch.nn.parallel import DistributedDataParallel as DDP\n",
        "\n",
        "warnings.filterwarnings(\"ignore\")\n",
        "RUN_EXAMPLES = True\n",
        "print(torch.__version__)\n",
        "# print(torchtext.__version__)"
      ],
      "metadata": {
        "colab": {
          "base_uri": "https://localhost:8080/"
        },
        "id": "ABOBlkXk-0tg",
        "outputId": "0c86f521-7c64-4e88-9749-ceb854b18c9d"
      },
      "execution_count": 126,
      "outputs": [
        {
          "output_type": "stream",
          "name": "stdout",
          "text": [
            "2.6.0+cu124\n"
          ]
        }
      ]
    },
    {
      "cell_type": "markdown",
      "source": [
        "#Helper functions:"
      ],
      "metadata": {
        "id": "k1dUm9x6_peF"
      }
    },
    {
      "cell_type": "code",
      "source": [
        "def is_interactive_notebook():\n",
        "    return __name__ == \"__main__\"\n",
        "\n",
        "\n",
        "def show_example(fn, args=[]):\n",
        "    if __name__ == \"__main__\" and RUN_EXAMPLES:\n",
        "        return fn(*args)\n",
        "\n",
        "\n",
        "def execute_example(fn, args=[]):\n",
        "    if __name__ == \"__main__\" and RUN_EXAMPLES:\n",
        "        fn(*args)\n",
        "\n",
        "\n",
        "class DummyOptimizer(torch.optim.Optimizer):\n",
        "    def __init__(self):\n",
        "        self.param_groups = [{\"lr\": 0}]\n",
        "        None\n",
        "\n",
        "    def step(self):\n",
        "        None\n",
        "\n",
        "    def zero_grad(self, set_to_none=False):\n",
        "        None\n",
        "\n",
        "\n",
        "class DummyScheduler:\n",
        "    def step(self):\n",
        "        None"
      ],
      "metadata": {
        "id": "r-8lYDbl_nfA"
      },
      "execution_count": 127,
      "outputs": []
    },
    {
      "cell_type": "markdown",
      "source": [
        "# This is the main model class:"
      ],
      "metadata": {
        "id": "5fkXWhwxGUej"
      }
    },
    {
      "cell_type": "code",
      "source": [
        "class EncoderDecoder(nn.Module):\n",
        "\n",
        "  \"\"\"\n",
        "    Main Architecture of the encoder and decoder\n",
        "  \"\"\"\n",
        "\n",
        "  def __init__(self, encoder, decoder, source_embeddings, target_embeddings, generator):\n",
        "    super(EncoderDecoder, self).__init__()\n",
        "    self.encoder = encoder\n",
        "    self.decoder = decoder\n",
        "    self.generator = generator\n",
        "    self.source_embeddings = source_embeddings\n",
        "    self.target_embeddings = target_embeddings\n",
        "\n",
        "  def forward():\n",
        "    pass\n",
        "\n",
        "  def encode(self, source, source_mask):\n",
        "    return self.encoder(self.source_embeddings(source),source_mask)\n",
        "\n",
        "  def decode(self, memory, source_mask, target, target_mask):\n",
        "    return self.decoder(self.target_embeddings(target), memory, source_mask, target_mask)"
      ],
      "metadata": {
        "id": "65qTS9j-Al9g"
      },
      "execution_count": 128,
      "outputs": []
    },
    {
      "cell_type": "markdown",
      "source": [
        "# Now we build the encoder, decoder, self-attention, generator, embedding classes."
      ],
      "metadata": {
        "id": "aDpavGYdGaMu"
      }
    },
    {
      "cell_type": "code",
      "source": [
        "class Generator(nn.Module):\n",
        "  def __init__(self, d_model, vocab) -> None:\n",
        "     super(Generator,self).__init__()\n",
        "     self.projections = nn.Linear(d_model, vocab)\n",
        "\n",
        "  def forward(self,x):\n",
        "    return log_softmax(self.projections(x), dim=1)"
      ],
      "metadata": {
        "id": "l7AChiKLFSzq"
      },
      "execution_count": 146,
      "outputs": []
    },
    {
      "cell_type": "code",
      "source": [
        "def clones(module, N):\n",
        "  \"\"\"\n",
        "  Duplicating layers\n",
        "\n",
        "  \"\"\"\n",
        "  return nn.ModuleList([copy.deepcopy(module) for _ in range(N)])"
      ],
      "metadata": {
        "id": "lM99kFWKHKuS"
      },
      "execution_count": 130,
      "outputs": []
    },
    {
      "cell_type": "markdown",
      "source": [
        "#Encoder Layer"
      ],
      "metadata": {
        "id": "KcuhioL1Tku2"
      }
    },
    {
      "cell_type": "code",
      "source": [
        "class Encoder(nn.Module):\n",
        "  \"Stack of N layers\"\n",
        "\n",
        "  def __init__(self, layer, N):\n",
        "    super(Encoder,self).__init__()\n",
        "    self.layers = clones(layer,N)\n",
        "    self.norm = LayerNorm(layer.size)\n",
        "\n",
        "  def forward(self,x, mask):\n",
        "    \"pass the input and mask thu each layer\"\n",
        "    for layer in self.layers:\n",
        "      x  = layer(x,mask)\n",
        "    return self.norm(x)"
      ],
      "metadata": {
        "id": "GGZ2fA5jTkb0"
      },
      "execution_count": 131,
      "outputs": []
    },
    {
      "cell_type": "code",
      "source": [
        "class LayerNorm(nn.Module):\n",
        "    \"Construct a layernorm module as per paperand standards for reducing training time \"\n",
        "\n",
        "    def __init__(self, features, eps = 1e-6):\n",
        "      super(LayerNorm, self).__init__()\n",
        "      self.a_2 = nn.Parameter(torch.ones(features))\n",
        "      self.b_2 = nn.Parameter(torch.zeros(features))\n",
        "      self.eps = eps\n",
        "\n",
        "    def forward(self, x):\n",
        "      mean = x.mean(-1, keepdim=True)\n",
        "      std = x.std(-1, keepdim=True)\n",
        "      return self.a_2 * (x - mean)/ (std + self.eps) + self.b_2\n"
      ],
      "metadata": {
        "id": "YpWudLUhTiDN"
      },
      "execution_count": 132,
      "outputs": []
    },
    {
      "cell_type": "code",
      "source": [
        "class SublayerConnection(nn.Module):\n",
        "    \"\"\"\n",
        "    A residual connection followed by a layer norm.\n",
        "    for code simplicity the norm is first as opposed to last.\n",
        "    \"\"\"\n",
        "\n",
        "    def __init__(self, size, dropout):\n",
        "        super(SublayerConnection, self).__init__()\n",
        "        self.norm = LayerNorm(size)\n",
        "        self.dropout = nn.Dropout(dropout)\n",
        "\n",
        "    def forward(self, x, sublayer):\n",
        "        \"Apply residual connection to any sublayer with the same size.\"\n",
        "        return x + self.dropout(sublayer(self.norm(x)))"
      ],
      "metadata": {
        "id": "_0lQ-uNgU_Yb"
      },
      "execution_count": 133,
      "outputs": []
    },
    {
      "cell_type": "code",
      "source": [
        "class EncoderLayer(nn.Module):\n",
        "  \"Self attention layer and feed forward Layer\"\n",
        "  def __init__(self, size, self_attn, feed_forward, dropout):\n",
        "    super(EncoderLayer,self).__init__()\n",
        "    self.self_attn = self_attn\n",
        "    self.feed_forward = feed_forward\n",
        "    self.sublayer = clones(SublayerConnection(size, dropout), 2)\n",
        "    self.size = size\n",
        "\n",
        "  def forward(self,x, mask):\n",
        "    x = self.sublayer[0](x, lambda x: self.self_attn(x, x, x, mask))\n",
        "    return self.sublayer[1](x, self.feed_forward)\n",
        ""
      ],
      "metadata": {
        "id": "qxq0DKzyfA_a"
      },
      "execution_count": 134,
      "outputs": []
    },
    {
      "cell_type": "markdown",
      "source": [
        "#Decoder Layer"
      ],
      "metadata": {
        "id": "m_vZVzuse9lA"
      }
    },
    {
      "cell_type": "code",
      "source": [
        "class Decoder(nn.Module):\n",
        "  \"N layer Decoder\"\n",
        "  def __init__(self,layer, N):\n",
        "    super(Decoder, self).__init__()\n",
        "    self.layers = clones(layer,N)\n",
        "    self.norm = LayerNorm(layer.size)\n",
        "\n",
        "  def forward(self,x, memory, source_mask, target_mask):\n",
        "    for layer in self.layers:\n",
        "      x = layer(x, memory, source_mask, target_mask)\n",
        "    return self.norm(x)"
      ],
      "metadata": {
        "id": "RhmVM8DVfA86"
      },
      "execution_count": 135,
      "outputs": []
    },
    {
      "cell_type": "code",
      "source": [
        "class DecoderLayer(nn.Module):\n",
        "    \"Decoder is made of self-attn, src-attn, and feed forward (defined below)\"\n",
        "\n",
        "    def __init__(self, size, self_attn, src_attn, feed_forward, dropout):\n",
        "        super(DecoderLayer, self).__init__()\n",
        "        self.size = size\n",
        "        self.self_attn = self_attn\n",
        "        self.src_attn = src_attn\n",
        "        self.feed_forward = feed_forward\n",
        "        self.sublayer = clones(SublayerConnection(size, dropout), 3)\n",
        "\n",
        "    def forward(self, x, memory, src_mask, tgt_mask):\n",
        "        m = memory\n",
        "        x = self.sublayer[0](x, lambda x: self.self_attn(x, x, x, tgt_mask))\n",
        "        x = self.sublayer[1](x, lambda x: self.src_attn(x, m, m, src_mask))\n",
        "        return self.sublayer[2](x, self.feed_forward)"
      ],
      "metadata": {
        "id": "xvxtX3dxfA6L"
      },
      "execution_count": 136,
      "outputs": []
    },
    {
      "cell_type": "code",
      "source": [
        "def subsequent_mask(size):\n",
        "    \"Mask out subsequent positions.\"\n",
        "    attn_shape = (1, size, size)\n",
        "    subsequent_mask = torch.triu(torch.ones(attn_shape), diagonal=1).type(torch.uint8)\n",
        "    return subsequent_mask == 0"
      ],
      "metadata": {
        "id": "xAIurlYKfA3l"
      },
      "execution_count": 137,
      "outputs": []
    },
    {
      "cell_type": "markdown",
      "source": [
        "# Attention mechanism:\n",
        "Here i implement standard attention mechanism which is a scaled dot product attention."
      ],
      "metadata": {
        "id": "rpUfJXXEDJJa"
      }
    },
    {
      "cell_type": "code",
      "source": [
        "def attention(query, key, value, mask=None, dropout=None):\n",
        "  \"\"\"Computing the scaled dot product\"\"\"\n",
        "  dim_k = query.size(-1)\n",
        "  scores = query @ key.transpose(-2,-1) / math.sqrt(dim_k)\n",
        "  if mask is not None:\n",
        "    scores = scores.masked_fill(mask == 0, -1e9)\n",
        "  p_attn = scores.softmax(dim=-1)\n",
        "  if dropout is not None:\n",
        "    p_attn = dropout(p_attn)\n",
        "  return p_attn @ value , p_attn"
      ],
      "metadata": {
        "id": "CpfyBh5ZfA0r"
      },
      "execution_count": 138,
      "outputs": []
    },
    {
      "cell_type": "code",
      "source": [
        "from re import X\n",
        "class MultiHeadedAttention(nn.Module):\n",
        "  def __init__(self, h, dim_model, dropout=0.1):\n",
        "    \"Take in model size and number of heads.\"\n",
        "    super(MultiHeadedAttention, self).__init__()\n",
        "    assert dim_model % h == 0\n",
        "    # Assume dim of value and key are same\n",
        "    self.dim_k = dim_model // h\n",
        "    self.h = h\n",
        "    self.linears = clones(nn.Linear(dim_model, dim_model), 4)\n",
        "    self.attn = None\n",
        "    self.dropout = nn.Dropout(p=dropout)\n",
        "\n",
        "  def forward(self,query, key, value, mask = None):\n",
        "    if mask is not None:\n",
        "      mask = mask.unsqueeze(1)\n",
        "\n",
        "    nbatches = query.size(0)\n",
        "\n",
        "    query, key, value = [lin(x).view(nbatches, -1, self.h, self.dim_k).transpose(1,2) for lin, x in zip(self.linears,(query, key, value))]\n",
        "\n",
        "    # Applying attention on all the projected vectors in batch\n",
        "    x, self.attn = attention(query, key, value, mask=mask, dropout = self.dropout)\n",
        "\n",
        "    # Concat using view and applying final linear\n",
        "    x = (x.transpose(1,2).contiguous().view(nbatches,-1, self.h * self.dim_k))\n",
        "\n",
        "    del query\n",
        "    del key\n",
        "    del value\n",
        "    return self.linears[-1](x)\n"
      ],
      "metadata": {
        "id": "POfOs6NWEvcu"
      },
      "execution_count": 139,
      "outputs": []
    },
    {
      "cell_type": "markdown",
      "source": [
        "# Embeddings and positional encoding\n"
      ],
      "metadata": {
        "id": "gjnxxw1mGzyV"
      }
    },
    {
      "cell_type": "code",
      "source": [
        "class PositionwiseFeedForward(nn.Module):\n",
        "    \"Implements FFN equation.\"\n",
        "\n",
        "    def __init__(self, dim_model, d_ff, dropout=0.1):\n",
        "        super(PositionwiseFeedForward, self).__init__()\n",
        "        self.w_1 = nn.Linear(dim_model, d_ff)\n",
        "        self.w_2 = nn.Linear(d_ff, dim_model)\n",
        "        self.dropout = nn.Dropout(dropout)\n",
        "\n",
        "    def forward(self, x):\n",
        "        return self.w_2(self.dropout(self.w_1(x).relu()))"
      ],
      "metadata": {
        "id": "s99DZmYQ1epr"
      },
      "execution_count": 140,
      "outputs": []
    },
    {
      "cell_type": "code",
      "source": [
        "class Embeddings(nn.Module):\n",
        "    def __init__(self, d_model, vocab):\n",
        "        super(Embeddings, self).__init__()\n",
        "        self.lut = nn.Embedding(vocab, d_model)\n",
        "        self.d_model = d_model\n",
        "\n",
        "    def forward(self, x):\n",
        "        return self.lut(x) * math.sqrt(self.d_model)"
      ],
      "metadata": {
        "id": "imHr79mHG1gu"
      },
      "execution_count": 141,
      "outputs": []
    },
    {
      "cell_type": "code",
      "source": [
        "class PositionalEncoding(nn.Module):\n",
        "    \"Implementing the PE function using sin and cos waves.\"\n",
        "\n",
        "    def __init__(self, d_model, dropout, max_len=5000):\n",
        "        super(PositionalEncoding, self).__init__()\n",
        "        self.dropout = nn.Dropout(p=dropout)\n",
        "\n",
        "        # Compute the positional encodings once in log space.\n",
        "        pe = torch.zeros(max_len, d_model)\n",
        "        position = torch.arange(0, max_len).unsqueeze(1)\n",
        "        div_term = torch.exp(\n",
        "            torch.arange(0, d_model, 2) * -(math.log(10000.0) / d_model)\n",
        "        )\n",
        "        pe[:, 0::2] = torch.sin(position * div_term)\n",
        "        pe[:, 1::2] = torch.cos(position * div_term)\n",
        "        pe = pe.unsqueeze(0)\n",
        "        self.register_buffer(\"pe\", pe)\n",
        "\n",
        "    def forward(self, x):\n",
        "        x = x + self.pe[:, : x.size(1)].requires_grad_(False)\n",
        "        return self.dropout(x)"
      ],
      "metadata": {
        "id": "3sirI8nxHLuw"
      },
      "execution_count": 142,
      "outputs": []
    },
    {
      "cell_type": "markdown",
      "source": [
        "# Model:"
      ],
      "metadata": {
        "id": "31yooynGKmS_"
      }
    },
    {
      "cell_type": "code",
      "source": [
        "def build_model(source_vocab, target_vocab, N=6, dim_model=512, dim_feed_forward=2048, h=8, dropout=0.1):\n",
        "  \"\"\"Constructing a model with the given parameters\"\"\"\n",
        "\n",
        "  c = copy.deepcopy\n",
        "  attn = MultiHeadedAttention(h,dim_model)\n",
        "  ff = PositionwiseFeedForward(dim_model, dim_feed_forward, dropout)\n",
        "  position = PositionalEncoding(dim_model, dropout)\n",
        "\n",
        "  model = EncoderDecoder(\n",
        "      Encoder(EncoderLayer(dim_model, c(attn), c(ff), dropout), N),\n",
        "      Decoder(DecoderLayer(dim_model, c(attn), c(attn), c(ff), dropout), N),\n",
        "      nn.Sequential(Embeddings(dim_model, source_vocab), c(position)),\n",
        "      nn.Sequential(Embeddings(dim_model, target_vocab), c(position)),\n",
        "      Generator(dim_model, target_vocab)\n",
        "  )\n",
        "\n",
        "  for p in model.parameters():\n",
        "    if p.dim() > 1:\n",
        "      nn.init.xavier_uniform_(p)\n",
        "  return model"
      ],
      "metadata": {
        "id": "4Bblq8WHKtXf"
      },
      "execution_count": 143,
      "outputs": []
    },
    {
      "cell_type": "markdown",
      "source": [
        "# Inferencing without training the transformer model"
      ],
      "metadata": {
        "id": "FhbgLvRQN5Hx"
      }
    },
    {
      "cell_type": "code",
      "source": [
        "def inference_test():\n",
        "  test_model = build_model(11,11,2)\n",
        "  test_model.eval()\n",
        "  source = torch.LongTensor([[1,2,3,4,5,6,7,8,9,10]])\n",
        "  source_mask = torch.ones(1,1,10)\n",
        "\n",
        "  memory = test_model.encode(source,source_mask)\n",
        "  ys = torch.zeros(1,1).type_as(source)\n",
        "\n",
        "\n",
        "  for i in range(9):\n",
        "    out = test_model.decode(\n",
        "        memory,source_mask, ys, subsequent_mask(ys.size(1)).type_as(source.data)\n",
        "        )\n",
        "\n",
        "    prob = test_model.generator(out[:, -1])\n",
        "    _, next_word = torch.max(prob, dim=1)\n",
        "    next_word = next_word.data[0]\n",
        "    ys = torch.cat(\n",
        "        [ys, torch.empty(1,1).type_as(source.data).fill_(next_word)], dim=1\n",
        "    )\n",
        "\n",
        "  print(\"Untrained model predictions: \", ys)\n"
      ],
      "metadata": {
        "id": "UMg7pFZ9M9RS"
      },
      "execution_count": 144,
      "outputs": []
    },
    {
      "cell_type": "code",
      "source": [
        "def run_tests():\n",
        "  for _ in range(10):\n",
        "    inference_test()\n",
        "\n",
        "show_example(run_tests)"
      ],
      "metadata": {
        "colab": {
          "base_uri": "https://localhost:8080/"
        },
        "id": "f0WbHTaoRLsK",
        "outputId": "9cbbf2d8-8018-4634-d1f9-37d9aaf6a909"
      },
      "execution_count": 147,
      "outputs": [
        {
          "output_type": "stream",
          "name": "stdout",
          "text": [
            "Untrained model predictions:  tensor([[0, 1, 7, 0, 1, 4, 4, 4, 4, 4]])\n",
            "Untrained model predictions:  tensor([[0, 4, 1, 1, 1, 8, 1, 8, 1, 8]])\n",
            "Untrained model predictions:  tensor([[ 0,  6, 10,  4,  5, 10,  1,  5, 10,  5]])\n",
            "Untrained model predictions:  tensor([[0, 1, 8, 8, 8, 8, 8, 8, 8, 8]])\n",
            "Untrained model predictions:  tensor([[ 0, 10,  4,  0, 10,  2,  2,  2,  2,  2]])\n",
            "Untrained model predictions:  tensor([[0, 9, 5, 6, 0, 9, 5, 6, 0, 6]])\n",
            "Untrained model predictions:  tensor([[ 0,  4, 10,  4, 10,  4, 10,  4, 10,  4]])\n",
            "Untrained model predictions:  tensor([[0, 0, 0, 0, 0, 0, 0, 0, 0, 0]])\n",
            "Untrained model predictions:  tensor([[0, 9, 1, 1, 1, 1, 1, 1, 2, 2]])\n",
            "Untrained model predictions:  tensor([[ 0,  9,  6,  2,  3, 10,  5,  4,  6,  2]])\n"
          ]
        }
      ]
    },
    {
      "cell_type": "code",
      "source": [],
      "metadata": {
        "id": "tIasde9_RVQr"
      },
      "execution_count": null,
      "outputs": []
    }
  ]
}